{
 "cells": [
  {
   "cell_type": "markdown",
   "metadata": {},
   "source": [
    "***Арцишевский Антон***"
   ]
  },
  {
   "cell_type": "code",
   "execution_count": 1,
   "metadata": {},
   "outputs": [],
   "source": [
    "import json\n",
    "from collections import Counter\n",
    "import re"
   ]
  },
  {
   "cell_type": "code",
   "execution_count": 2,
   "metadata": {
    "scrolled": false
   },
   "outputs": [
    {
     "name": "stdout",
     "output_type": "stream",
     "text": [
      "Requirement already satisfied: pycodestyle in c:\\users\\trekc\\appdata\\local\\programs\\python\\python37-32\\lib\\site-packages (2.5.0)\n",
      "Requirement already satisfied: flake8 in c:\\users\\trekc\\appdata\\local\\programs\\python\\python37-32\\lib\\site-packages (3.7.8)\n",
      "Requirement already satisfied: pycodestyle_magic in c:\\users\\trekc\\appdata\\local\\programs\\python\\python37-32\\lib\\site-packages (0.4)\n",
      "Requirement already satisfied: entrypoints<0.4.0,>=0.3.0 in c:\\users\\trekc\\appdata\\local\\programs\\python\\python37-32\\lib\\site-packages (from flake8) (0.3)\n",
      "Requirement already satisfied: mccabe<0.7.0,>=0.6.0 in c:\\users\\trekc\\appdata\\local\\programs\\python\\python37-32\\lib\\site-packages (from flake8) (0.6.1)\n",
      "Requirement already satisfied: pyflakes<2.2.0,>=2.1.0 in c:\\users\\trekc\\appdata\\local\\programs\\python\\python37-32\\lib\\site-packages (from flake8) (2.1.1)\n"
     ]
    }
   ],
   "source": [
    "! pip3 install pycodestyle flake8 pycodestyle_magic"
   ]
  },
  {
   "cell_type": "code",
   "execution_count": 3,
   "metadata": {},
   "outputs": [],
   "source": [
    "%load_ext pycodestyle_magic\n",
    "%pycodestyle_on"
   ]
  },
  {
   "cell_type": "markdown",
   "metadata": {},
   "source": [
    "Прочитаю данные и запихну их в списочек"
   ]
  },
  {
   "cell_type": "code",
   "execution_count": 4,
   "metadata": {},
   "outputs": [],
   "source": [
    "twitter_text = []\n",
    "for line in open('hw_3_twitter.json', 'r', encoding='utf-8'):\n",
    "    twitter_text.append(json.loads(line))"
   ]
  },
  {
   "cell_type": "markdown",
   "metadata": {},
   "source": [
    "### **Первое задание**\n",
    "#### **Удалённые твиты также считались**"
   ]
  },
  {
   "cell_type": "code",
   "execution_count": 5,
   "metadata": {},
   "outputs": [
    {
     "name": "stdout",
     "output_type": "stream",
     "text": [
      "Всего твитов:  2556\n"
     ]
    }
   ],
   "source": [
    "number_of_tweets = len(twitter_text)\n",
    "print('Всего твитов: ', number_of_tweets)"
   ]
  },
  {
   "cell_type": "markdown",
   "metadata": {},
   "source": [
    "### **Второе задание**\n",
    "#### **Проценты решил не округлять (и знак процента также не поставил)**"
   ]
  },
  {
   "cell_type": "code",
   "execution_count": 6,
   "metadata": {},
   "outputs": [
    {
     "name": "stdout",
     "output_type": "stream",
     "text": [
      "Процент удалённых твитов:  14.162754303599373\n"
     ]
    }
   ],
   "source": [
    "deleted_tweets = 0\n",
    "for line in twitter_text:\n",
    "    if 'delete' in line:\n",
    "        deleted_tweets += 1\n",
    "percentage_deleted_tweets = deleted_tweets / number_of_tweets * 100\n",
    "print('Процент удалённых твитов: ', percentage_deleted_tweets)"
   ]
  },
  {
   "cell_type": "markdown",
   "metadata": {},
   "source": [
    "### **Третье задание**\n",
    "#### **Вывел всё в построчном виде**"
   ]
  },
  {
   "cell_type": "code",
   "execution_count": 7,
   "metadata": {},
   "outputs": [
    {
     "name": "stdout",
     "output_type": "stream",
     "text": [
      "Упорядоченный список языков твита:\n",
      "en  -  719\n",
      "ja  -  438\n",
      "es  -  173\n",
      "ko  -  149\n",
      "th  -  123\n",
      "ar  -  119\n",
      "und  -  117\n",
      "in  -  71\n",
      "pt  -  69\n",
      "fr  -  35\n",
      "tr  -  30\n",
      "tl  -  29\n",
      "hi  -  23\n",
      "ru  -  15\n",
      "fa  -  8\n",
      "zh  -  8\n",
      "ca  -  7\n",
      "ur  -  6\n",
      "nl  -  6\n",
      "de  -  6\n",
      "ta  -  4\n",
      "it  -  4\n",
      "ht  -  4\n",
      "et  -  4\n",
      "pl  -  4\n",
      "el  -  3\n",
      "fi  -  3\n",
      "vi  -  3\n",
      "eu  -  2\n",
      "cy  -  2\n",
      "bg  -  2\n",
      "is  -  1\n",
      "uk  -  1\n",
      "iw  -  1\n",
      "lv  -  1\n",
      "sv  -  1\n",
      "da  -  1\n",
      "no  -  1\n",
      "hu  -  1\n"
     ]
    }
   ],
   "source": [
    "languages = []\n",
    "for line in twitter_text:\n",
    "    for key in line:\n",
    "        if key == 'lang':\n",
    "            languages.append(line[key])\n",
    "total = Counter(languages).most_common()\n",
    "print('Упорядоченный список языков твита:')\n",
    "for key, value in total:\n",
    "    print(key, ' - ', value)"
   ]
  },
  {
   "cell_type": "markdown",
   "metadata": {},
   "source": [
    "### **Четвертое задание**\n",
    "#### **Идентификация юзеров происходила по used:id**"
   ]
  },
  {
   "cell_type": "code",
   "execution_count": 8,
   "metadata": {},
   "outputs": [
    {
     "name": "stdout",
     "output_type": "stream",
     "text": [
      "Кол-во пользователей, сделавших более одного твита: 25\n"
     ]
    }
   ],
   "source": [
    "nicks = []\n",
    "for line in twitter_text:\n",
    "    for key in line:\n",
    "        if key == 'user':\n",
    "            user_id = line[key]['id']\n",
    "            nicks.append(user_id)\n",
    "c = Counter(nicks)\n",
    "unic_users = 0\n",
    "values = c.values()\n",
    "for value in values:\n",
    "    if value != 1:\n",
    "        unic_users += 1\n",
    "print('Кол-во пользователей, сделавших более одного твита:', unic_users)"
   ]
  },
  {
   "cell_type": "markdown",
   "metadata": {},
   "source": [
    "### **Пятое задание**\n",
    "#### **Я специально вывел только хэштеги, без кол-во их употреблений (ибо так велено в задании)**"
   ]
  },
  {
   "cell_type": "code",
   "execution_count": 9,
   "metadata": {},
   "outputs": [
    {
     "name": "stdout",
     "output_type": "stream",
     "text": [
      "Top 20 hashtags:\n",
      "\n",
      "BTS\n",
      "방탄소년단\n",
      "AMAs\n",
      "人気投票ガチャ\n",
      "태형\n",
      "뷔\n",
      "BTSinChicago\n",
      "BTSLoveYourselfTour\n",
      "오늘의방탄\n",
      "PledgeForSwachhBharat\n",
      "MPN\n",
      "PCAs\n",
      "V\n",
      "시카고1회차공연\n",
      "เป๊กผลิตโชค\n",
      "JIMIN\n",
      "running\n",
      "NCT\n",
      "지민\n",
      "WajahmuPlastik\n"
     ]
    }
   ],
   "source": [
    "hashtags = []\n",
    "for line in twitter_text:\n",
    "    for key in line:\n",
    "        if key == 'entities':\n",
    "            enteties = line[key]['hashtags']\n",
    "            for element in enteties:\n",
    "                hashtag = element['text']\n",
    "                hashtags.append(hashtag)\n",
    "c = Counter(hashtags).most_common(20)\n",
    "print('Top 20 hashtags:\\n')\n",
    "for key, value in c:\n",
    "    print(key)"
   ]
  },
  {
   "cell_type": "markdown",
   "metadata": {},
   "source": [
    "### **Седьмое задание**\n",
    "#### Решил воспользоваться словарём и отсортировать его значения. Может можно было бы по-другому ограничить цикл, но я решил так"
   ]
  },
  {
   "cell_type": "code",
   "execution_count": 10,
   "metadata": {},
   "outputs": [
    {
     "name": "stdout",
     "output_type": "stream",
     "text": [
      "Filosofía♕ - 2521403 followers\n",
      "FITNESS Magazine - 1491309 followers\n",
      "malaysiakini.com - 1206759 followers\n",
      "NYT Science - 1137374 followers\n",
      "Gramática - 625463 followers\n",
      "TGRT Haber - 392472 followers\n",
      "The Sun Football ⚽ - 383698 followers\n",
      "Melbourne, Australia - 374222 followers\n",
      "Roznama Express - 318189 followers\n",
      "💞 ცųཞɠɛཞცơơɠıɛ 💞 - 311319 followers\n"
     ]
    }
   ],
   "source": [
    "followers = {}\n",
    "for line in twitter_text:\n",
    "    for key in line:\n",
    "        if key == 'user':\n",
    "            followers_count = line[key]['followers_count']\n",
    "            nick = line[key]['name']\n",
    "            user = {nick: followers_count}\n",
    "            followers.update(user)\n",
    "index = 0\n",
    "limit = 10\n",
    "for key in sorted(followers, key=followers.get, reverse=True):\n",
    "    print(key, '-', followers[key], 'followers')\n",
    "    index += 1\n",
    "    if index == limit:\n",
    "        break"
   ]
  },
  {
   "cell_type": "markdown",
   "metadata": {},
   "source": [
    "### **Восьмое задание** (не работает)\n",
    "###### ~~убейте меня, я делаю прогу уже 7 часов подряд, осталось 40 мин до дедлайна~~"
   ]
  },
  {
   "cell_type": "code",
   "execution_count": 25,
   "metadata": {},
   "outputs": [
    {
     "ename": "SyntaxError",
     "evalue": "EOL while scanning string literal (<ipython-input-25-59afd64f0996>, line 3)",
     "output_type": "error",
     "traceback": [
      "\u001b[1;36m  File \u001b[1;32m\"<ipython-input-25-59afd64f0996>\"\u001b[1;36m, line \u001b[1;32m3\u001b[0m\n\u001b[1;33m    r = re.search = (r\"source':.+?download\\/([ai].+?)\\\", line)\u001b[0m\n\u001b[1;37m                                                              ^\u001b[0m\n\u001b[1;31mSyntaxError\u001b[0m\u001b[1;31m:\u001b[0m EOL while scanning string literal\n"
     ]
    },
    {
     "ename": "ValueError",
     "evalue": "too many values to unpack (expected 3)",
     "output_type": "error",
     "traceback": [
      "\u001b[1;31m---------------------------------------------------------------------------\u001b[0m",
      "\u001b[1;31mValueError\u001b[0m                                Traceback (most recent call last)",
      "\u001b[1;32mc:\\users\\trekc\\appdata\\local\\programs\\python\\python37-32\\lib\\site-packages\\pycodestyle_magic.py\u001b[0m in \u001b[0;36mauto_run_pycodestyle\u001b[1;34m(self, result)\u001b[0m\n\u001b[0;32m     35\u001b[0m \u001b[1;33m\u001b[0m\u001b[0m\n\u001b[0;32m     36\u001b[0m     \u001b[1;32mdef\u001b[0m \u001b[0mauto_run_pycodestyle\u001b[0m\u001b[1;33m(\u001b[0m\u001b[0mself\u001b[0m\u001b[1;33m,\u001b[0m \u001b[0mresult\u001b[0m\u001b[1;33m)\u001b[0m\u001b[1;33m:\u001b[0m\u001b[1;33m\u001b[0m\u001b[1;33m\u001b[0m\u001b[0m\n\u001b[1;32m---> 37\u001b[1;33m         \u001b[0mpycodestyle\u001b[0m\u001b[1;33m(\u001b[0m\u001b[1;36m1\u001b[0m\u001b[1;33m,\u001b[0m \u001b[0mresult\u001b[0m\u001b[1;33m.\u001b[0m\u001b[0minfo\u001b[0m\u001b[1;33m.\u001b[0m\u001b[0mraw_cell\u001b[0m\u001b[1;33m,\u001b[0m \u001b[0mauto\u001b[0m\u001b[1;33m=\u001b[0m\u001b[1;32mTrue\u001b[0m\u001b[1;33m)\u001b[0m\u001b[1;33m\u001b[0m\u001b[1;33m\u001b[0m\u001b[0m\n\u001b[0m\u001b[0;32m     38\u001b[0m         \u001b[1;32mif\u001b[0m \u001b[0mresult\u001b[0m\u001b[1;33m.\u001b[0m\u001b[0merror_before_exec\u001b[0m\u001b[1;33m:\u001b[0m\u001b[1;33m\u001b[0m\u001b[1;33m\u001b[0m\u001b[0m\n\u001b[0;32m     39\u001b[0m             \u001b[0mprint\u001b[0m\u001b[1;33m(\u001b[0m\u001b[1;34m'Error before execution: %s'\u001b[0m \u001b[1;33m%\u001b[0m \u001b[0mresult\u001b[0m\u001b[1;33m.\u001b[0m\u001b[0merror_before_exec\u001b[0m\u001b[1;33m)\u001b[0m\u001b[1;33m\u001b[0m\u001b[1;33m\u001b[0m\u001b[0m\n",
      "\u001b[1;32m<c:\\users\\trekc\\appdata\\local\\programs\\python\\python37-32\\lib\\site-packages\\decorator.py:decorator-gen-131>\u001b[0m in \u001b[0;36mpycodestyle\u001b[1;34m(line, cell, auto)\u001b[0m\n",
      "\u001b[1;32mc:\\users\\trekc\\appdata\\local\\programs\\python\\python37-32\\lib\\site-packages\\IPython\\core\\magic.py\u001b[0m in \u001b[0;36m<lambda>\u001b[1;34m(f, *a, **k)\u001b[0m\n\u001b[0;32m    218\u001b[0m     \u001b[1;31m# but it's overkill for just that one bit of state.\u001b[0m\u001b[1;33m\u001b[0m\u001b[1;33m\u001b[0m\u001b[1;33m\u001b[0m\u001b[0m\n\u001b[0;32m    219\u001b[0m     \u001b[1;32mdef\u001b[0m \u001b[0mmagic_deco\u001b[0m\u001b[1;33m(\u001b[0m\u001b[0marg\u001b[0m\u001b[1;33m)\u001b[0m\u001b[1;33m:\u001b[0m\u001b[1;33m\u001b[0m\u001b[1;33m\u001b[0m\u001b[0m\n\u001b[1;32m--> 220\u001b[1;33m         \u001b[0mcall\u001b[0m \u001b[1;33m=\u001b[0m \u001b[1;32mlambda\u001b[0m \u001b[0mf\u001b[0m\u001b[1;33m,\u001b[0m \u001b[1;33m*\u001b[0m\u001b[0ma\u001b[0m\u001b[1;33m,\u001b[0m \u001b[1;33m**\u001b[0m\u001b[0mk\u001b[0m\u001b[1;33m:\u001b[0m \u001b[0mf\u001b[0m\u001b[1;33m(\u001b[0m\u001b[1;33m*\u001b[0m\u001b[0ma\u001b[0m\u001b[1;33m,\u001b[0m \u001b[1;33m**\u001b[0m\u001b[0mk\u001b[0m\u001b[1;33m)\u001b[0m\u001b[1;33m\u001b[0m\u001b[1;33m\u001b[0m\u001b[0m\n\u001b[0m\u001b[0;32m    221\u001b[0m \u001b[1;33m\u001b[0m\u001b[0m\n\u001b[0;32m    222\u001b[0m         \u001b[1;31m# Find get_ipython() in the caller's namespace\u001b[0m\u001b[1;33m\u001b[0m\u001b[1;33m\u001b[0m\u001b[1;33m\u001b[0m\u001b[0m\n",
      "\u001b[1;32mc:\\users\\trekc\\appdata\\local\\programs\\python\\python37-32\\lib\\site-packages\\pycodestyle_magic.py\u001b[0m in \u001b[0;36mpycodestyle\u001b[1;34m(line, cell, auto)\u001b[0m\n\u001b[0;32m    126\u001b[0m         \u001b[1;31m#logger.info(line)\u001b[0m\u001b[1;33m\u001b[0m\u001b[1;33m\u001b[0m\u001b[1;33m\u001b[0m\u001b[0m\n\u001b[0;32m    127\u001b[0m         \u001b[1;31m# on windows drive path also contains :\u001b[0m\u001b[1;33m\u001b[0m\u001b[1;33m\u001b[0m\u001b[1;33m\u001b[0m\u001b[0m\n\u001b[1;32m--> 128\u001b[1;33m         \u001b[0mline\u001b[0m\u001b[1;33m,\u001b[0m \u001b[0mcol\u001b[0m\u001b[1;33m,\u001b[0m \u001b[0merror\u001b[0m \u001b[1;33m=\u001b[0m \u001b[0mline\u001b[0m\u001b[1;33m.\u001b[0m\u001b[0msplit\u001b[0m\u001b[1;33m(\u001b[0m\u001b[1;34m':'\u001b[0m\u001b[1;33m)\u001b[0m\u001b[1;33m[\u001b[0m\u001b[1;33m-\u001b[0m\u001b[1;36m4\u001b[0m\u001b[1;33m:\u001b[0m\u001b[1;33m]\u001b[0m\u001b[1;33m\u001b[0m\u001b[1;33m\u001b[0m\u001b[0m\n\u001b[0m\u001b[0;32m    129\u001b[0m         \u001b[1;31m# only add + 1 for line for %%flake8, inc pre py3.6 string\u001b[0m\u001b[1;33m\u001b[0m\u001b[1;33m\u001b[0m\u001b[1;33m\u001b[0m\u001b[0m\n\u001b[0;32m    130\u001b[0m         \u001b[1;32mif\u001b[0m \u001b[0mauto\u001b[0m\u001b[1;33m:\u001b[0m\u001b[1;33m\u001b[0m\u001b[1;33m\u001b[0m\u001b[0m\n",
      "\u001b[1;31mValueError\u001b[0m: too many values to unpack (expected 3)"
     ]
    }
   ],
   "source": [
    "x = []\n",
    "for line in twitter_text:\n",
    "    r = re.search = (r\"source':.+?download\\/([ai].+?)\\\", line)            \n",
    "print('r.group(1)')"
   ]
  }
 ],
 "metadata": {
  "kernelspec": {
   "display_name": "Python 3",
   "language": "python",
   "name": "python3"
  },
  "language_info": {
   "codemirror_mode": {
    "name": "ipython",
    "version": 3
   },
   "file_extension": ".py",
   "mimetype": "text/x-python",
   "name": "python",
   "nbconvert_exporter": "python",
   "pygments_lexer": "ipython3",
   "version": "3.7.4"
  }
 },
 "nbformat": 4,
 "nbformat_minor": 2
}
